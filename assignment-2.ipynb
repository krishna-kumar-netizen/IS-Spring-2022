{
 "cells": [
  {
   "cell_type": "markdown",
   "id": "4f697399",
   "metadata": {},
   "source": [
    "### Calling imports"
   ]
  },
  {
   "cell_type": "code",
   "execution_count": 36,
   "id": "1f496b88",
   "metadata": {
    "scrolled": true
   },
   "outputs": [],
   "source": [
    "# from keras.datasets import fashion_mnist\n",
    "import matplotlib.pyplot as plt\n",
    "import numpy as np\n",
    "import cv2 as cv\n",
    "import tensorflow.compat.v1 as tf\n",
    "tf.disable_v2_behavior()"
   ]
  },
  {
   "cell_type": "code",
   "execution_count": 37,
   "id": "7435523f",
   "metadata": {},
   "outputs": [],
   "source": [
    "import numpy as np\n",
    "import tensorflow as tf\n",
    "\n",
    "mnist = tf.keras.datasets.mnist\n",
    "(x_train, _), (x_test, _) = fashion_mnist.load_data()\n",
    "\n",
    "X = np.concatenate([x_train, x_test])\n",
    "X = X / 127.5 - 1\n",
    "\n",
    "# Set reshaped array to X \n",
    "X = X.reshape((70000, 28, 28, 1))\n",
    "\n",
    "# Convert images and store them in X3\n",
    "X3 = tf.image.grayscale_to_rgb(\n",
    "    tf.convert_to_tensor(X),\n",
    "    name=None)\n",
    "\n",
    "# Get one image from the 3D image array to var. image\n",
    "image = X3[:,:,:,:]\n",
    "\n",
    "# Plot it out with matplotlib.pyplot\n",
    "import matplotlib.pyplot as plt\n",
    "\n",
    "# with tf.compat.v1.Session() as sess:\n",
    "# #     sess.run(tf.global_variables_initializer())\n",
    "#     image_to_plot = sess.run(image)\n",
    "#     plt.figure()\n",
    "#     plt.imshow(image_to_plot)\n",
    "#     plt.grid(False)"
   ]
  },
  {
   "cell_type": "code",
   "execution_count": null,
   "id": "78b9a15a",
   "metadata": {
    "scrolled": true
   },
   "outputs": [],
   "source": [
    "# Loading data\n",
    "sample_size=600\n",
    "yTrain=y_train[:sample_size]\n",
    "yTest=y_test[:sample_size]\n",
    "\n",
    "xTrain=np.vstack((x_train.reshape(28*28,-1)[:,:sample_size],np.ones(sample_size)))\n",
    "xTest=np.vstack((x_test.reshape(28*28,-1)[:,:sample_size],np.ones(sample_size)))"
   ]
  },
  {
   "cell_type": "markdown",
   "id": "05550320",
   "metadata": {},
   "source": [
    "### Plotting the image"
   ]
  },
  {
   "cell_type": "code",
   "execution_count": 39,
   "id": "ad8d6b63",
   "metadata": {
    "scrolled": false
   },
   "outputs": [
    {
     "name": "stderr",
     "output_type": "stream",
     "text": [
      "Clipping input data to the valid range for imshow with RGB data ([0..1] for floats or [0..255] for integers).\n",
      "Clipping input data to the valid range for imshow with RGB data ([0..1] for floats or [0..255] for integers).\n",
      "Clipping input data to the valid range for imshow with RGB data ([0..1] for floats or [0..255] for integers).\n",
      "Clipping input data to the valid range for imshow with RGB data ([0..1] for floats or [0..255] for integers).\n",
      "Clipping input data to the valid range for imshow with RGB data ([0..1] for floats or [0..255] for integers).\n",
      "Clipping input data to the valid range for imshow with RGB data ([0..1] for floats or [0..255] for integers).\n",
      "Clipping input data to the valid range for imshow with RGB data ([0..1] for floats or [0..255] for integers).\n",
      "Clipping input data to the valid range for imshow with RGB data ([0..1] for floats or [0..255] for integers).\n",
      "Clipping input data to the valid range for imshow with RGB data ([0..1] for floats or [0..255] for integers).\n",
      "Clipping input data to the valid range for imshow with RGB data ([0..1] for floats or [0..255] for integers).\n"
     ]
    },
    {
     "data": {
      "image/png": "[encoded data removed]",
      "text/plain": [
       "<Figure size 432x288 with 10 Axes>"
      ]
     },
     "metadata": {
      "needs_background": "light"
     },
     "output_type": "display_data"
    }
   ],
   "source": [
    "\n",
    "img_index=8\n",
    "for i in range(10):\n",
    "    with tf.compat.v1.Session() as sess:\n",
    "        plt.subplot(5,2,i+1)\n",
    "        ind=np.random.choice(np.where(y_train==(i))[0])\n",
    "        image_to_plot = sess.run(image[ind])\n",
    "        plt.imshow(image_to_plot)\n",
    "#         plt.grid(True)\n",
    "    \n",
    "#     ax=plt.subplot(5,2,i+1)\n",
    "#     ind=np.random.choice(np.where(y_train==(i))[0])\n",
    "#     ax.imshow(x_train[ind])\n",
    "#         plt.title(str(i+1))"
   ]
  },
  {
   "cell_type": "code",
   "execution_count": 43,
   "id": "dced9e93",
   "metadata": {
    "scrolled": true
   },
   "outputs": [
    {
     "name": "stdout",
     "output_type": "stream",
     "text": [
      "xTrain shape: (785, 600) xTest shape: (785, 600)\n"
     ]
    }
   ],
   "source": [
    "print(\"xTrain shape:\", xTrain.shape, \"xTest shape:\", xTest.shape)"
   ]
  },
  {
   "cell_type": "code",
   "execution_count": 44,
   "id": "44360cbd",
   "metadata": {},
   "outputs": [],
   "source": [
    "def sigma(x):\n",
    "    return (1/(1+np.exp(x)))"
   ]
  },
  {
   "cell_type": "code",
   "execution_count": 47,
   "id": "2acd11f3",
   "metadata": {},
   "outputs": [],
   "source": [
    "def ff_layer(x,input_param,w,op_layer,nu_ner,sample_size,hl=2):\n",
    "    \n",
    "    y_h=input_layer.dot(x)\n",
    "    \n",
    "    for l in range(hl):\n",
    "        y_h=sigma((w[l]).dot(y_h))\n",
    "        print(l,y_h.shape)\n",
    "            \n",
    "    output=sigma((op_layer.T).dot(y_h))\n",
    "#     print(\"input layer=\",(input_layer.T).shape,\"y_h=\",y_h.shape)\n",
    "    \n",
    "    return output"
   ]
  },
  {
   "cell_type": "code",
   "execution_count": 48,
   "id": "a7feefaf",
   "metadata": {},
   "outputs": [
    {
     "name": "stdout",
     "output_type": "stream",
     "text": [
      "0 (3, 600)\n",
      "1 (3, 600)\n",
      "(10, 600)\n"
     ]
    },
    {
     "name": "stderr",
     "output_type": "stream",
     "text": [
      "/tmp/ipykernel_589085/2198665297.py:2: RuntimeWarning: overflow encountered in exp\n",
      "  return (1/(1+np.exp(x)))\n"
     ]
    }
   ],
   "source": [
    "n=xTest.shape[0]\n",
    "number_of_neurons=3\n",
    "number_of_hidden_layers=2\n",
    "input_layer=np.random.normal(size=(number_of_neurons,n))\n",
    "w=np.random.normal(size=(number_of_hidden_layers,number_of_neurons,number_of_neurons)) \n",
    "op_layer=np.random.normal(size=(number_of_neurons,10))\n",
    "output=ff_layer(xTest,input_layer,w,op_layer,number_of_neurons,sample_size,hl=number_of_hidden_layers) \n",
    "\n",
    "print(output.shape) #ouput is a probabiliy map between image and the 10 classes"
   ]
  }
 ],
 "metadata": {
  "kernelspec": {
   "display_name": "Python 3",
   "language": "python",
   "name": "python3"
  },
  "language_info": {
   "codemirror_mode": {
    "name": "ipython",
    "version": 3
   },
   "file_extension": ".py",
   "mimetype": "text/x-python",
   "name": "python",
   "nbconvert_exporter": "python",
   "pygments_lexer": "ipython3",
   "version": "3.8.10"
  }
 },
 "nbformat": 4,
 "nbformat_minor": 5
}
