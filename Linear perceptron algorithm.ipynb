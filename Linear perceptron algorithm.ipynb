{
 "cells": [
  {
   "cell_type": "code",
   "execution_count": 1,
   "id": "50b62ad5",
   "metadata": {},
   "outputs": [],
   "source": [
    "from csv import reader\n",
    "import numpy as np\n",
    "import random"
   ]
  },
  {
   "cell_type": "code",
   "execution_count": 2,
   "id": "68e6550f",
   "metadata": {},
   "outputs": [],
   "source": [
    "train_path='/home/madhava/Downloads/sonar_csv.csv'"
   ]
  },
  {
   "cell_type": "code",
   "execution_count": 3,
   "id": "a6d61218",
   "metadata": {},
   "outputs": [],
   "source": [
    "def read_data(filename):\n",
    "    dataset = list()\n",
    "    with open(filename, 'r') as file:\n",
    "        csv_reader = reader(file)\n",
    "\n",
    "        for row in csv_reader:\n",
    "            if not row:\n",
    "                continue\n",
    "            dataset.append(row)\n",
    "        \n",
    "    return np.array(dataset)"
   ]
  },
  {
   "cell_type": "code",
   "execution_count": 4,
   "id": "6943f6a5",
   "metadata": {},
   "outputs": [
    {
     "name": "stdout",
     "output_type": "stream",
     "text": [
      "(209, 61)\n"
     ]
    }
   ],
   "source": [
    "dataset=np.array(read_data('/home/madhava/Downloads/sonar_csv.csv'))\n",
    "print(dataset.shape)"
   ]
  },
  {
   "cell_type": "code",
   "execution_count": 5,
   "id": "8b33f386",
   "metadata": {},
   "outputs": [],
   "source": [
    "def load_data(data_list,sample_size=208):\n",
    "    x=data_list[1:(sample_size+1),:-1].astype(float)\n",
    "    y_temp=data_list[1:(sample_size+1),-1]\n",
    "    y=np.zeros(sample_size)\n",
    "    m,n=x.shape\n",
    "    index=0\n",
    "    for ele in y_temp:\n",
    "        if(ele=='Mine'):\n",
    "            y[index]=1\n",
    "        else:\n",
    "            y[index]=-1\n",
    "        index+=1\n",
    "    \n",
    "    # appending element to x and y\n",
    "    x=np.vstack((x,np.ones(n)))\n",
    "    y=np.hstack((y,np.zeros(1)))\n",
    "    return x.T,y.T"
   ]
  },
  {
   "cell_type": "code",
   "execution_count": 6,
   "id": "192d4d69",
   "metadata": {},
   "outputs": [
    {
     "name": "stdout",
     "output_type": "stream",
     "text": [
      "(60, 209) (209,)\n"
     ]
    }
   ],
   "source": [
    "x,y=load_data(dataset)\n",
    "print(x.shape,y.shape)"
   ]
  },
  {
   "cell_type": "code",
   "execution_count": 7,
   "id": "8b69144a",
   "metadata": {},
   "outputs": [],
   "source": [
    "def conv(pred,y):\n",
    "    m=pred.shape[0]\n",
    "    output=np.zeros(m)\n",
    "    output[np.where(pred>=0)[0]]=1\n",
    "    output[np.where(pred<0)[0]]=-1\n",
    "    \n",
    "    error=np.sum(((y-output).T).dot(y-output))\n",
    "    \n",
    "    return error"
   ]
  },
  {
   "cell_type": "code",
   "execution_count": 8,
   "id": "dc6d6b42",
   "metadata": {},
   "outputs": [
    {
     "data": {
      "text/plain": [
       "445.0"
      ]
     },
     "execution_count": 8,
     "metadata": {},
     "output_type": "execute_result"
    }
   ],
   "source": [
    "n=x.shape[0]\n",
    "w=np.random.normal(size=n)\n",
    "output=conv((w.T).dot(x),y)\n",
    "output"
   ]
  },
  {
   "cell_type": "code",
   "execution_count": 9,
   "id": "ca093e38",
   "metadata": {},
   "outputs": [],
   "source": [
    "def train(x,y,w,number_of_epochs=100):\n",
    "    epoch=0\n",
    "    convergence=False\n",
    "    \n",
    "    m,n=y.shape[0],x.shape[0]\n",
    "    \n",
    "    er=0\n",
    "    \n",
    "    while(not convergence):\n",
    "        \n",
    "        ind_p=np.random.choice(np.where(y==1)[0])\n",
    "        ind_n=np.random.choice(np.where(y==-1)[0])\n",
    "        x_p=x[:,ind_p]\n",
    "        x_n=x[:,ind_n]\n",
    "    \n",
    "        \n",
    "        if((w.T).dot(x_p)<0):\n",
    "            w=w+x_p\n",
    "            \n",
    "        if((w.T).dot(x_n)>=0):\n",
    "            w-=x_n\n",
    "        epoch+=1\n",
    "        if(epoch==number_of_epochs):\n",
    "            convergence=True\n",
    "            \n",
    "#         pred=(w.T).dot(x)\n",
    "        \n",
    "#         error=conv(pred,y)\n",
    "        \n",
    "#         print(\"Error=\",error)\n",
    "        \n",
    "#         if error<=100:\n",
    "#             convergence=True \n",
    "        \n",
    "    return w"
   ]
  },
  {
   "cell_type": "code",
   "execution_count": 10,
   "id": "88a95b9f",
   "metadata": {},
   "outputs": [],
   "source": [
    "def train_epoch(x,y,w,number_of_epochs=100):\n",
    "    epoch=0\n",
    "    \n",
    "    m,n=y.shape[0],x.shape[0]\n",
    "    \n",
    "    er=0\n",
    "    \n",
    "    sigma((w.T).dot(x))while(epoch<number_of_epochs):\n",
    "        \n",
    "        ind_p=np.random.choice(np.where(y==1)[0])\n",
    "        ind_n=np.random.choice(np.where(y==-1)[0])\n",
    "        x_p=x[:,ind_p]\n",
    "        x_n=x[:,ind_n]\n",
    "    \n",
    "        \n",
    "        if((w.T).dot(x_p)<0):\n",
    "            w=w+x_p\n",
    "            \n",
    "        if((w.T).dot(x_n)>=0):\n",
    "            w-=x_n\n",
    "            \n",
    "        epoch+=1\n",
    "        \n",
    "    return w\n",
    "\n",
    "    "
   ]
  },
  {
   "cell_type": "code",
   "execution_count": 37,
   "id": "a7feefaf",
   "metadata": {},
   "outputs": [],
   "source": [
    "n=x.shape[0]\n",
    "w=np.random.normal(size=n)\n",
    "w=train(x,y,w)"
   ]
  },
  {
   "cell_type": "markdown",
   "id": "fae6cd4d",
   "metadata": {},
   "source": [
    "### "
   ]
  },
  {
   "cell_type": "code",
   "execution_count": 23,
   "id": "44360cbd",
   "metadata": {},
   "outputs": [],
   "source": [
    "def sigma(x):\n",
    "    return (1/(1+np.exp(x)))"
   ]
  },
  {
   "cell_type": "code",
   "execution_count": 32,
   "id": "bcc33def",
   "metadata": {},
   "outputs": [],
   "source": [
    "def binary_cross_entropy(y_hat, y):\n",
    "    bce = y * np.log(y_hat) + (1 - y) * np.log(1 - y_hat)\n",
    "    return np.mean(-bce)"
   ]
  },
  {
   "cell_type": "code",
   "execution_count": 33,
   "id": "8c6fb54a",
   "metadata": {},
   "outputs": [],
   "source": [
    "def bce_loss(w,x,y):\n",
    "    m,n=y.shape[0],x.shape[0]\n",
    "    y_dash=sigma((w.T).dot(x))\n",
    "    loss=binary_cross_entropy(y_dash,y)\n",
    "#     log_y_dash=np.log(y_dash)\n",
    "    \n",
    "#     loss=-(1/m)*(np.sum(y*log_y_dash+(1-y)*(1-log_y_dash)))\n",
    "    \n",
    "    return loss"
   ]
  },
  {
   "cell_type": "code",
   "execution_count": 38,
   "id": "40a3737f",
   "metadata": {},
   "outputs": [
    {
     "name": "stdout",
     "output_type": "stream",
     "text": [
      "BCE loss= 3.384946498519797\n"
     ]
    }
   ],
   "source": [
    "loss=bce_loss(w,x,y)\n",
    "print(\"BCE loss=\",loss)"
   ]
  },
  {
   "cell_type": "markdown",
   "id": "996f9259",
   "metadata": {},
   "source": [
    "### Putting it all together"
   ]
  },
  {
   "cell_type": "code",
   "execution_count": 81,
   "id": "0ae1e6dc",
   "metadata": {},
   "outputs": [],
   "source": [
    "# Reading the dataset\n",
    "dataset=np.array(read_data(train_path))\n",
    "\n",
    "# Loading data\n",
    "x,y=load_data(dataset)\n",
    "\n",
    "# training neurons parameters\n",
    "\n",
    "n=x.shape[0]\n",
    "w=np.random.normal(size=n) # initialize n+1 parameters\n",
    "w=train(x,y,w,number_of_epochs=10e5) # termination condition is based on number of epochs\n",
    "\n",
    "# # trainging accuracy \n",
    "# accuracy=accuracy_calc(w,x,y)\n",
    "# print(\"Accuracy is \",accuracy,\"%\")"
   ]
  },
  {
   "cell_type": "markdown",
   "id": "215bae84",
   "metadata": {},
   "source": [
    "Testing the trained linear perceptron"
   ]
  },
  {
   "cell_type": "code",
   "execution_count": 82,
   "id": "32934b5b",
   "metadata": {},
   "outputs": [],
   "source": [
    "def predict(x):\n",
    "    if((w.T).dot(x)>=0):\n",
    "        return 'Cylinder'\n",
    "    if((w.T).dot(x)<0):\n",
    "        return 'Hard-Rock'"
   ]
  },
  {
   "cell_type": "markdown",
   "id": "aba5575b",
   "metadata": {},
   "source": [
    "### Looking at some of the results"
   ]
  },
  {
   "cell_type": "code",
   "execution_count": 95,
   "id": "6d2617a3",
   "metadata": {},
   "outputs": [
    {
     "name": "stdout",
     "output_type": "stream",
     "text": [
      "99 64\n",
      "Prediction of wave reflected by cylinder,from the model= Cylinder\n",
      "Prediction of wave reflected from hardrock, from  model= Hard-Rock\n"
     ]
    }
   ],
   "source": [
    "ind_p=np.random.choice(np.where(y==1)[0])\n",
    "ind_n=np.random.choice(np.where(y==-1)[0])\n",
    "print(ind_p,ind_n)\n",
    "X_p=x[:,ind_p]\n",
    "X_n=x[:,ind_n]\n",
    "\n",
    "# testing wave from the cylinder\n",
    "y_p=predict(X_p)\n",
    "X_n=x[:,ind_n]\n",
    "print(\"Prediction of wave reflected by cylinder,from the model=\",y_p)\n",
    "\n",
    "#teting wave from hardrock\n",
    "y_n=predict(X_n)\n",
    "print(\"Prediction of wave reflected from hardrock, from  model=\",y_n)"
   ]
  }
 ],
 "metadata": {
  "kernelspec": {
   "display_name": "Python 3",
   "language": "python",
   "name": "python3"
  },
  "language_info": {
   "codemirror_mode": {
    "name": "ipython",
    "version": 3
   },
   "file_extension": ".py",
   "mimetype": "text/x-python",
   "name": "python",
   "nbconvert_exporter": "python",
   "pygments_lexer": "ipython3",
   "version": "3.9.7"
  }
 },
 "nbformat": 4,
 "nbformat_minor": 5
}
